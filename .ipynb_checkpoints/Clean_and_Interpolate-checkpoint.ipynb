{
 "cells": [
  {
   "cell_type": "markdown",
   "metadata": {},
   "source": [
    "## Clean data and Interpolate\n",
    "This notebook is a continuation of 'query_with_bounding_boxes.ipynb'. It takes the depth-to-surface area table that was generated in 'query_with_bounding_boxes' and fixes the depth-to-surface area relationship by interpolating/extrapolating missing or bad data points. It's better to use a new notebook for this because I didn't want to keep regenerating the depth-to-surface area tables, as it takes an hour or something. So I just saved out the csv file and now I can bring it in with Pandas to edit.  Basically, this notebook deletes surface areas that are lower than the depth before it (because surface area should increase with depth). Then when it only has good data points, it fits a curve using the Pandas interpolate() function. To extrapolate out the extremities, a line is fited to the last 2 good data points. "
   ]
  },
  {
   "cell_type": "code",
   "execution_count": 1,
   "metadata": {},
   "outputs": [],
   "source": [
    "import os\n",
    "import sys\n",
    "import pandas as pd\n",
    "import numpy as np\n",
    "import matplotlib.pyplot as plt\n",
    "\n",
    "#read the depth-to-surface area table with pandas\n",
    "df = pd.read_csv('depth_to_surface_unlimitedImages.csv')\n",
    "df = df.drop(columns = ['Unnamed: 0'])\n",
    "df = df.set_index(\"ID\")"
   ]
  },
  {
   "cell_type": "code",
   "execution_count": 186,
   "metadata": {},
   "outputs": [
    {
     "name": "stdout",
     "output_type": "stream",
     "text": [
      "GaugeID:  RE690\n",
      "Original index range =  0 to 9\n",
      "Cleaned index range =  0 to 9\n",
      "Top 20% + 1 data points =  3\n"
     ]
    },
    {
     "data": {
      "image/png": "[encoded data removed]",
      "text/plain": [
       "<Figure size 432x288 with 1 Axes>"
      ]
     },
     "metadata": {
      "needs_background": "light"
     },
     "output_type": "display_data"
    },
    {
     "data": {
      "image/png": "[encoded data removed]",
      "text/plain": [
       "<Figure size 432x288 with 1 Axes>"
      ]
     },
     "metadata": {
      "needs_background": "light"
     },
     "output_type": "display_data"
    }
   ],
   "source": [
    "t = 121 # this is just to test individual reservoirs, like a random one from the list\n",
    "\n",
    "#Split the dataframe into multiple dataframes, one for each reservoir\n",
    "ID_array = np.unique(df.index)\n",
    "ID_list = ID_array.tolist()\n",
    "\n",
    "#use groupby() pandas function to group by unique values (ie by gauge ID)\n",
    "data_list = []\n",
    "grouped = df.groupby(df.index) \n",
    "for ID in ID_list:\n",
    "    section = grouped.get_group(str(ID))\n",
    "    data_list.append(section)\n",
    "\n",
    "#Change the index to a zero base index for each reservoir (0 to n, like what it's default index would be)\n",
    "data_list_reindex = []\n",
    "for reservoir in data_list:\n",
    "    df1 = reservoir.sort_values(\"Depth\")\n",
    "    df1 = df1.reset_index()\n",
    "    data_list_reindex.append(df1)\n",
    "\n",
    "#Have a look at the unedited surface area graph for the random reservoir you chose\n",
    "test1 = data_list_reindex[t]\n",
    "max_ = test1.index.max()\n",
    "min_ = test1.index.min()\n",
    "\n",
    "#Delete bad data\n",
    "data_list2 = []\n",
    "for n in data_list_reindex:\n",
    "# This loop gets rid of datapoints if they show the surface area going down with depth, when it should go up\n",
    "    obs_list = []\n",
    "\n",
    "    for i, obs in n.iterrows():\n",
    "        if i == 0: #We always put the first point in, even if it's bad (will fix later)\n",
    "            obs_list.append(obs)\n",
    "            continue\n",
    "        if obs[\"Surface Area\"] > obs_list[-1][\"Surface Area\"]: # if the number is bigger than the number before it, keep.\n",
    "            obs_list.append(obs)\n",
    "\n",
    "        obs_df = pd.DataFrame(obs_list)\n",
    "    data_list2.append(obs_df)\n",
    "test2 = data_list2[t]\n",
    "\n",
    "max_2 = test2.index.max()\n",
    "min_2 = test2.index.min()\n",
    "\n",
    "#Fill gaps in depth and assign NaN surface area for those depths\n",
    "test3 = test2.reindex(range(min_, max_+1))\n",
    "test3['Depth'] = test1['Depth']\n",
    "test3['ID'] = test1['ID']\n",
    "\n",
    "#Interpolate\n",
    "test4 = test3\n",
    "test4['Surface Area'] = test3['Surface Area'].interpolate()\n",
    "test4 = test4.head(max_2+1) #take off the end that's flatlining\n",
    "\n",
    "#Take top 20% + 1 of data points \n",
    "x = list(test4['Depth'])\n",
    "y = list(test4['Surface Area'])\n",
    "length = len(x)\n",
    "top20p = length*0.2\n",
    "n_datapoints = round(top20p, 0) + 1\n",
    "n_datapoints = int(n_datapoints)\n",
    "test5 = test4.tail(n_datapoints)\n",
    "\n",
    "top_x = list(test5['Depth'])\n",
    "top_y = list(test5['Surface Area'])\n",
    "\n",
    "print('GaugeID: ', test1.at[0, 'ID'])\n",
    "print('Original index range = ', min_, 'to', max_)\n",
    "print('Cleaned index range = ', min_2, 'to', max_2)\n",
    "print('Top 20% + 1 data points = ', n_datapoints)\n",
    "\n",
    "# Make a polynomial function to fit a curve to the datapoints\n",
    "z = np.polyfit(top_x, top_y, 1) #use first degree polynomial\n",
    "f = np.poly1d(z)\n",
    "n_fit = len(f)\n",
    "start = x[0]\n",
    "stop = x[-1]\n",
    "for x1 in np.linspace(start, stop):\n",
    "    plt.plot(x, y, 'bo')\n",
    "    plt.plot(x1+5, f(x1+5), 'r+')\n",
    "    \n",
    "plt.axis()\n",
    "plt.show()\n",
    "\n",
    "# Compare to fitting a line to the top 2 data points\n",
    "test6 = test4.tail(2)\n",
    "top_x = list(test6['Depth'])\n",
    "top_y = list(test6['Surface Area'])\n",
    "z = np.polyfit(top_x, top_y, 1)\n",
    "f = np.poly1d(z)\n",
    "n_fit = len(f)\n",
    "start = x[0]\n",
    "stop = x[-1]\n",
    "for x1 in np.linspace(start, stop):\n",
    "    plt.plot(x, y, 'bo')\n",
    "    plt.plot(x1+5, f(x1+5), 'r+')\n",
    "    \n",
    "plt.axis()\n",
    "plt.show()"
   ]
  },
  {
   "cell_type": "code",
   "execution_count": null,
   "metadata": {},
   "outputs": [],
   "source": []
  }
 ],
 "metadata": {
  "kernelspec": {
   "display_name": "Python 3",
   "language": "python",
   "name": "python3"
  },
  "language_info": {
   "codemirror_mode": {
    "name": "ipython",
    "version": 3
   },
   "file_extension": ".py",
   "mimetype": "text/x-python",
   "name": "python",
   "nbconvert_exporter": "python",
   "pygments_lexer": "ipython3",
   "version": "3.6.9"
  }
 },
 "nbformat": 4,
 "nbformat_minor": 4
}
