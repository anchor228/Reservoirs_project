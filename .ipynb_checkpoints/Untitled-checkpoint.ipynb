{
 "cells": [
  {
   "cell_type": "code",
   "execution_count": 10,
   "metadata": {},
   "outputs": [],
   "source": [
    "#imports\n",
    "import sys\n",
    "import os\n",
    "import xarray as xr\n",
    "import numpy as np\n",
    "import pandas as pd\n",
    "import geopandas as gpd\n",
    "import csv\n",
    "#import glob    #This one lets you read all the csv files in a directory\n",
    "import rasterio.crs\n",
    "from tqdm.auto import tqdm #this one is a loading bar, it's cool to add loading bars to loops\n",
    "from pandas import DataFrame\n",
    "import geopandas as gpd\n",
    "import matplotlib.gridspec as gs\n",
    "import matplotlib.pyplot as plt\n",
    "from matplotlib import pyplot"
   ]
  },
  {
   "cell_type": "code",
   "execution_count": null,
   "metadata": {},
   "outputs": [],
   "source": [
    "#make a list of the file names so we can call them with pandas\n",
    "file_list = []\n",
    "\n",
    "directory = 'corrected_dataframes'\n",
    "for filename in os.listdir(directory):\n",
    "    if filename.endswith(\".csv\"):\n",
    "        file_list.append(os.path.join(directory, filename))"
   ]
  },
  {
   "cell_type": "code",
   "execution_count": null,
   "metadata": {},
   "outputs": [],
   "source": [
    "dfs = []\n",
    "for filename in file_list:\n",
    "    dfs.append(pd.read_csv(filename))\n",
    "\n",
    "big_frame = pd.concat(dfs, ignore_index=True)"
   ]
  },
  {
   "cell_type": "code",
   "execution_count": null,
   "metadata": {},
   "outputs": [],
   "source": [
    "big_frame"
   ]
  },
  {
   "cell_type": "code",
   "execution_count": null,
   "metadata": {},
   "outputs": [],
   "source": [
    "big_frame.to_csv('extrapolated_depth_to_surface.csv')"
   ]
  },
  {
   "cell_type": "code",
   "execution_count": 2,
   "metadata": {},
   "outputs": [],
   "source": [
    "file_list = []\n",
    "\n",
    "directory = '00_Library'\n",
    "for filename in os.listdir(directory):\n",
    "    if filename.endswith(\".csv\"):\n",
    "        file_list.append(os.path.join(directory, filename))"
   ]
  },
  {
   "cell_type": "code",
   "execution_count": null,
   "metadata": {},
   "outputs": [],
   "source": [
    "test = file_list[1]"
   ]
  },
  {
   "cell_type": "code",
   "execution_count": null,
   "metadata": {},
   "outputs": [],
   "source": [
    "test[11:-4]"
   ]
  },
  {
   "cell_type": "code",
   "execution_count": null,
   "metadata": {},
   "outputs": [],
   "source": [
    "name_list = []\n",
    "for name in file_list:\n",
    "    name_list.append(name[11:-4])\n",
    "    \n",
    "name_list[1]"
   ]
  },
  {
   "cell_type": "code",
   "execution_count": 3,
   "metadata": {},
   "outputs": [
    {
     "data": {
      "application/vnd.jupyter.widget-view+json": {
       "model_id": "4a1d5257b1b549deaceeaabe95f0734f",
       "version_major": 2,
       "version_minor": 0
      },
      "text/plain": [
       "  0%|          | 0/178 [00:00<?, ?it/s]"
      ]
     },
     "metadata": {},
     "output_type": "display_data"
    },
    {
     "data": {
      "text/plain": [
       "'604.1'"
      ]
     },
     "execution_count": 3,
     "metadata": {},
     "output_type": "execute_result"
    }
   ],
   "source": [
    "ID_list = []\n",
    "#let's use tqdm again to make a progress bar. The bar is so cool I love this module\n",
    "for i in tqdm(file_list, total=len(file_list)):\n",
    "    df = pd.read_csv(i, nrows=1, escapechar='#')\n",
    "    column = df.iloc[:,[1]] #This is the column with the ID in it\n",
    "    ID = list(column)\n",
    "    ID = ID[0]\n",
    "    ID = df.at[0, ID]\n",
    "    ID_list.append(str(ID))\n",
    "ID_list[1]"
   ]
  },
  {
   "cell_type": "code",
   "execution_count": 4,
   "metadata": {},
   "outputs": [
    {
     "data": {
      "text/plain": [
       "178"
      ]
     },
     "execution_count": 4,
     "metadata": {},
     "output_type": "execute_result"
    }
   ],
   "source": [
    "len(ID_list)"
   ]
  },
  {
   "cell_type": "code",
   "execution_count": 7,
   "metadata": {},
   "outputs": [
    {
     "data": {
      "text/html": [
       "<div>\n",
       "<style scoped>\n",
       "    .dataframe tbody tr th:only-of-type {\n",
       "        vertical-align: middle;\n",
       "    }\n",
       "\n",
       "    .dataframe tbody tr th {\n",
       "        vertical-align: top;\n",
       "    }\n",
       "\n",
       "    .dataframe thead th {\n",
       "        text-align: right;\n",
       "    }\n",
       "</style>\n",
       "<table border=\"1\" class=\"dataframe\">\n",
       "  <thead>\n",
       "    <tr style=\"text-align: right;\">\n",
       "      <th></th>\n",
       "      <th>0</th>\n",
       "    </tr>\n",
       "  </thead>\n",
       "  <tbody>\n",
       "    <tr>\n",
       "      <th>0</th>\n",
       "      <td>ODSS_18335_WSLAHD.1</td>\n",
       "    </tr>\n",
       "    <tr>\n",
       "      <th>1</th>\n",
       "      <td>604.1</td>\n",
       "    </tr>\n",
       "    <tr>\n",
       "      <th>2</th>\n",
       "      <td>136115A</td>\n",
       "    </tr>\n",
       "    <tr>\n",
       "      <th>3</th>\n",
       "      <td>BARKERSCREEK</td>\n",
       "    </tr>\n",
       "    <tr>\n",
       "      <th>4</th>\n",
       "      <td>sp-o10350</td>\n",
       "    </tr>\n",
       "    <tr>\n",
       "      <th>...</th>\n",
       "      <td>...</td>\n",
       "    </tr>\n",
       "    <tr>\n",
       "      <th>173</th>\n",
       "      <td>M350</td>\n",
       "    </tr>\n",
       "    <tr>\n",
       "      <th>174</th>\n",
       "      <td>410853</td>\n",
       "    </tr>\n",
       "    <tr>\n",
       "      <th>175</th>\n",
       "      <td>sp-o10438</td>\n",
       "    </tr>\n",
       "    <tr>\n",
       "      <th>176</th>\n",
       "      <td>M316</td>\n",
       "    </tr>\n",
       "    <tr>\n",
       "      <th>177</th>\n",
       "      <td>410543</td>\n",
       "    </tr>\n",
       "  </tbody>\n",
       "</table>\n",
       "<p>178 rows × 1 columns</p>\n",
       "</div>"
      ],
      "text/plain": [
       "                       0\n",
       "0    ODSS_18335_WSLAHD.1\n",
       "1                  604.1\n",
       "2                136115A\n",
       "3           BARKERSCREEK\n",
       "4              sp-o10350\n",
       "..                   ...\n",
       "173                 M350\n",
       "174               410853\n",
       "175            sp-o10438\n",
       "176                 M316\n",
       "177               410543\n",
       "\n",
       "[178 rows x 1 columns]"
      ]
     },
     "execution_count": 7,
     "metadata": {},
     "output_type": "execute_result"
    }
   ],
   "source": [
    "df = pd.DataFrame(ID_list)\n",
    "df"
   ]
  },
  {
   "cell_type": "code",
   "execution_count": 9,
   "metadata": {},
   "outputs": [],
   "source": [
    "df.to_csv('ID_list.csv')"
   ]
  },
  {
   "cell_type": "code",
   "execution_count": 11,
   "metadata": {},
   "outputs": [
    {
     "data": {
      "text/html": [
       "<div>\n",
       "<style scoped>\n",
       "    .dataframe tbody tr th:only-of-type {\n",
       "        vertical-align: middle;\n",
       "    }\n",
       "\n",
       "    .dataframe tbody tr th {\n",
       "        vertical-align: top;\n",
       "    }\n",
       "\n",
       "    .dataframe thead th {\n",
       "        text-align: right;\n",
       "    }\n",
       "</style>\n",
       "<table border=\"1\" class=\"dataframe\">\n",
       "  <thead>\n",
       "    <tr style=\"text-align: right;\">\n",
       "      <th></th>\n",
       "      <th>gauge_ID</th>\n",
       "      <th>NAME</th>\n",
       "      <th>staion_nam</th>\n",
       "      <th>lat</th>\n",
       "      <th>lon</th>\n",
       "      <th>geometry</th>\n",
       "    </tr>\n",
       "  </thead>\n",
       "  <tbody>\n",
       "    <tr>\n",
       "      <th>0</th>\n",
       "      <td>TAYLORS</td>\n",
       "      <td>LAKE TAYLOR</td>\n",
       "      <td>Taylors Lake</td>\n",
       "      <td>-36.783437</td>\n",
       "      <td>142.383614</td>\n",
       "      <td>POLYGON ((142.39295 -36.77087, 142.39255 -36.7...</td>\n",
       "    </tr>\n",
       "    <tr>\n",
       "      <th>1</th>\n",
       "      <td>RE604</td>\n",
       "      <td>UPPER STONY CREEK RESERVOIR</td>\n",
       "      <td>Upper Stony</td>\n",
       "      <td>-37.818353</td>\n",
       "      <td>144.203635</td>\n",
       "      <td>POLYGON ((144.21140 -37.81367, 144.21152 -37.8...</td>\n",
       "    </tr>\n",
       "    <tr>\n",
       "      <th>2</th>\n",
       "      <td>sp-o10334</td>\n",
       "      <td>LAKE EILDON</td>\n",
       "      <td>EILDON</td>\n",
       "      <td>-37.162231</td>\n",
       "      <td>145.965819</td>\n",
       "      <td>POLYGON ((145.90362 -37.00929, 145.90379 -37.0...</td>\n",
       "    </tr>\n",
       "    <tr>\n",
       "      <th>3</th>\n",
       "      <td>425022</td>\n",
       "      <td>LAKE MENINDEE</td>\n",
       "      <td>LAKE MENINDEE</td>\n",
       "      <td>-32.342074</td>\n",
       "      <td>142.328469</td>\n",
       "      <td>POLYGON ((142.35087 -32.28318, 142.35105 -32.2...</td>\n",
       "    </tr>\n",
       "    <tr>\n",
       "      <th>4</th>\n",
       "      <td>sp-o11534</td>\n",
       "      <td>WARANGA BASIN</td>\n",
       "      <td>WARANGA BASIN</td>\n",
       "      <td>-36.555218</td>\n",
       "      <td>145.096791</td>\n",
       "      <td>POLYGON ((145.15262 -36.53798, 145.15294 -36.5...</td>\n",
       "    </tr>\n",
       "    <tr>\n",
       "      <th>...</th>\n",
       "      <td>...</td>\n",
       "      <td>...</td>\n",
       "      <td>...</td>\n",
       "      <td>...</td>\n",
       "      <td>...</td>\n",
       "      <td>...</td>\n",
       "    </tr>\n",
       "    <tr>\n",
       "      <th>148</th>\n",
       "      <td>136023A</td>\n",
       "      <td>NED CHURCHWARD WEIR</td>\n",
       "      <td>Ned Churchward HW</td>\n",
       "      <td>-25.083942</td>\n",
       "      <td>152.026595</td>\n",
       "      <td>POLYGON ((151.99580 -25.18014, 151.99548 -25.1...</td>\n",
       "    </tr>\n",
       "    <tr>\n",
       "      <th>149</th>\n",
       "      <td>136020A</td>\n",
       "      <td>BEN ANDERSON BARRAGE</td>\n",
       "      <td>Ben Anderson Barrage</td>\n",
       "      <td>-24.927564</td>\n",
       "      <td>152.231507</td>\n",
       "      <td>POLYGON ((152.16701 -24.99459, 152.16765 -24.9...</td>\n",
       "    </tr>\n",
       "    <tr>\n",
       "      <th>150</th>\n",
       "      <td>136003C</td>\n",
       "      <td>CLAUDE WHARTON WEIR</td>\n",
       "      <td>Claude Wharton HW</td>\n",
       "      <td>-25.617167</td>\n",
       "      <td>151.559284</td>\n",
       "      <td>POLYGON ((151.52507 -25.62287, 151.52643 -25.6...</td>\n",
       "    </tr>\n",
       "    <tr>\n",
       "      <th>151</th>\n",
       "      <td>125008A</td>\n",
       "      <td>MARIAN WEIR</td>\n",
       "      <td>Mirani Weir HW</td>\n",
       "      <td>-21.146641</td>\n",
       "      <td>148.885758</td>\n",
       "      <td>POLYGON ((148.82987 -21.17723, 148.82926 -21.1...</td>\n",
       "    </tr>\n",
       "    <tr>\n",
       "      <th>152</th>\n",
       "      <td>125008A</td>\n",
       "      <td>MIRANI WEIR</td>\n",
       "      <td>Mirani Weir HW</td>\n",
       "      <td>-21.202198</td>\n",
       "      <td>148.819760</td>\n",
       "      <td>POLYGON ((148.82987 -21.17723, 148.82978 -21.1...</td>\n",
       "    </tr>\n",
       "  </tbody>\n",
       "</table>\n",
       "<p>153 rows × 6 columns</p>\n",
       "</div>"
      ],
      "text/plain": [
       "      gauge_ID                         NAME            staion_nam        lat  \\\n",
       "0      TAYLORS                  LAKE TAYLOR          Taylors Lake -36.783437   \n",
       "1        RE604  UPPER STONY CREEK RESERVOIR           Upper Stony -37.818353   \n",
       "2    sp-o10334                  LAKE EILDON                EILDON -37.162231   \n",
       "3       425022                LAKE MENINDEE         LAKE MENINDEE -32.342074   \n",
       "4    sp-o11534                WARANGA BASIN         WARANGA BASIN -36.555218   \n",
       "..         ...                          ...                   ...        ...   \n",
       "148    136023A          NED CHURCHWARD WEIR     Ned Churchward HW -25.083942   \n",
       "149    136020A         BEN ANDERSON BARRAGE  Ben Anderson Barrage -24.927564   \n",
       "150    136003C          CLAUDE WHARTON WEIR     Claude Wharton HW -25.617167   \n",
       "151    125008A                  MARIAN WEIR        Mirani Weir HW -21.146641   \n",
       "152    125008A                  MIRANI WEIR        Mirani Weir HW -21.202198   \n",
       "\n",
       "            lon                                           geometry  \n",
       "0    142.383614  POLYGON ((142.39295 -36.77087, 142.39255 -36.7...  \n",
       "1    144.203635  POLYGON ((144.21140 -37.81367, 144.21152 -37.8...  \n",
       "2    145.965819  POLYGON ((145.90362 -37.00929, 145.90379 -37.0...  \n",
       "3    142.328469  POLYGON ((142.35087 -32.28318, 142.35105 -32.2...  \n",
       "4    145.096791  POLYGON ((145.15262 -36.53798, 145.15294 -36.5...  \n",
       "..          ...                                                ...  \n",
       "148  152.026595  POLYGON ((151.99580 -25.18014, 151.99548 -25.1...  \n",
       "149  152.231507  POLYGON ((152.16701 -24.99459, 152.16765 -24.9...  \n",
       "150  151.559284  POLYGON ((151.52507 -25.62287, 151.52643 -25.6...  \n",
       "151  148.885758  POLYGON ((148.82987 -21.17723, 148.82926 -21.1...  \n",
       "152  148.819760  POLYGON ((148.82987 -21.17723, 148.82978 -21.1...  \n",
       "\n",
       "[153 rows x 6 columns]"
      ]
     },
     "execution_count": 11,
     "metadata": {},
     "output_type": "execute_result"
    }
   ],
   "source": [
    "gdf = gpd.read_file('00_Library_reservois/00_Library_reservois.shp')\n",
    "gdf"
   ]
  },
  {
   "cell_type": "code",
   "execution_count": null,
   "metadata": {},
   "outputs": [],
   "source": []
  }
 ],
 "metadata": {
  "kernelspec": {
   "display_name": "Python 3",
   "language": "python",
   "name": "python3"
  },
  "language_info": {
   "codemirror_mode": {
    "name": "ipython",
    "version": 3
   },
   "file_extension": ".py",
   "mimetype": "text/x-python",
   "name": "python",
   "nbconvert_exporter": "python",
   "pygments_lexer": "ipython3",
   "version": "3.6.9"
  }
 },
 "nbformat": 4,
 "nbformat_minor": 4
}
