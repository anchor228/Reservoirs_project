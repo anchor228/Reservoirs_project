{
 "cells": [
  {
   "cell_type": "markdown",
   "metadata": {},
   "source": [
    "## This notebook makes a dummy storage curve as pretend validation data and calculates an r squared value compared to the depth to surface area made from the wofs/depth gauge method"
   ]
  },
  {
   "cell_type": "code",
   "execution_count": 14,
   "metadata": {},
   "outputs": [],
   "source": [
    "import geopandas as gpd\n",
    "import pandas as pd\n",
    "import numpy as np\n",
    "from scipy.stats import chi2_contingency\n",
    "import matplotlib\n",
    "import matplotlib.pyplot as plt"
   ]
  },
  {
   "cell_type": "code",
   "execution_count": 2,
   "metadata": {},
   "outputs": [],
   "source": [
    "my_storage_curve = 'Storage_curves/294.1.csv'"
   ]
  },
  {
   "cell_type": "markdown",
   "metadata": {},
   "source": [
    "## Make some fake data"
   ]
  },
  {
   "cell_type": "code",
   "execution_count": 3,
   "metadata": {},
   "outputs": [],
   "source": [
    "df = pd.read_csv(my_storage_curve)\n",
    "\n",
    "# Get gauge ID\n",
    "ID = df.loc[0, 'ID']\n",
    "\n",
    "# Get first and last values\n",
    "length = len(df)\n",
    "last_n = length -1\n",
    "last = df.iloc[last_n]\n",
    "first = df.iloc[0]\n",
    "\n",
    "last_v = last['Surface Area']\n",
    "first_v = first['Surface Area']\n",
    "\n",
    "# Change first and last values a little bit\n",
    "first_v = first_v + (first_v * 0.05)\n",
    "last_v = last_v - (last_v * 0.05)\n",
    "\n",
    "# Change all values to 0 \n",
    "df['Surface Area'] = 0\n",
    "\n",
    "# Except for the first and last value\n",
    "df.loc[0, 'Surface Area'] = first_v\n",
    "df.loc[last_n, 'Surface Area'] = last_v\n",
    "\n",
    "# Interpolate between the changed first and last values\n",
    "df.drop(df[df['Surface Area'] == 0].index, inplace=True) #drop zero values\n",
    "df2 = df.set_index(\"Depth\")\n",
    "min_ = df2.index.min()\n",
    "max_ = df2.index.max()\n",
    "df3 = df2.reindex(range(min_, max_+1))\n",
    "df3['Surface Area'] = df3['Surface Area'].interpolate()\n",
    "df3['ID'] = ID"
   ]
  },
  {
   "cell_type": "markdown",
   "metadata": {},
   "source": [
    "## Compare with the real data"
   ]
  },
  {
   "cell_type": "code",
   "execution_count": 12,
   "metadata": {},
   "outputs": [
    {
     "data": {
      "text/plain": [
       "<matplotlib.axes._subplots.AxesSubplot at 0x7f1c352f7860>"
      ]
     },
     "execution_count": 12,
     "metadata": {},
     "output_type": "execute_result"
    },
    {
     "data": {
      "image/png": "[encoded data removed]",
      "text/plain": [
       "<Figure size 432x288 with 1 Axes>"
      ]
     },
     "metadata": {
      "needs_background": "light"
     },
     "output_type": "display_data"
    }
   ],
   "source": [
    "original = pd.read_csv(my_storage_curve, index_col='Depth')\n",
    "fake = df3\n",
    "\n",
    "#Calculate r squared\n",
    "real_list = original['Surface Area'].to_list()\n",
    "fake_list = fake['Surface Area'].to_list()\n",
    "\n",
    "corr_matrix = np.corrcoef(real_list, fake_list)\n",
    "corr = corr_matrix[0,1]\n",
    "R2 = corr**2\n",
    "R2_str = R2.astype(str)\n",
    "title = 'The R squared value is ' + R2_str\n",
    "\n",
    "\n",
    "# plot\n",
    "original['Depth'] = original.index\n",
    "fake['Depth'] = fake.index\n",
    "\n",
    "ax = fake.plot.scatter(x='Depth',\n",
    "                    y='Surface Area',\n",
    "                    c='Red')\n",
    "original.plot.scatter(x='Depth',\n",
    "                    y='Surface Area',\n",
    "                    c='DarkBlue',\n",
    "                    ax=ax, title = title)"
   ]
  },
  {
   "cell_type": "markdown",
   "metadata": {},
   "source": [
    "## Calculate Chi squared (mean difference)\n",
    "We need to measure the difference between each point in the remotely sensed data and the 'validation' data, and then report the average difference."
   ]
  },
  {
   "cell_type": "code",
   "execution_count": 39,
   "metadata": {},
   "outputs": [
    {
     "name": "stdout",
     "output_type": "stream",
     "text": [
      "The average difference between the remotley sensed data and the validation data is:\n",
      "147210.06944444444\n"
     ]
    }
   ],
   "source": [
    "contingency = pd.DataFrame(index=original.index)\n",
    "contingency['Validation_Surface_Area'] = fake['Surface Area']\n",
    "contingency['Remotley_Sensed_Surface_Area'] = original['Surface Area']\n",
    "contingency['difference'] = contingency['Remotley_Sensed_Surface_Area'] - contingency['Validation_Surface_Area']\n",
    "average_difference = sum(contingency['difference']/len(contingency.index))\n",
    "\n",
    "print('The average difference between the remotley sensed data and the validation data is:')\n",
    "print(average_difference)"
   ]
  }
 ],
 "metadata": {
  "kernelspec": {
   "display_name": "Python 3",
   "language": "python",
   "name": "python3"
  },
  "language_info": {
   "codemirror_mode": {
    "name": "ipython",
    "version": 3
   },
   "file_extension": ".py",
   "mimetype": "text/x-python",
   "name": "python",
   "nbconvert_exporter": "python",
   "pygments_lexer": "ipython3",
   "version": "3.6.9"
  }
 },
 "nbformat": 4,
 "nbformat_minor": 4
}
