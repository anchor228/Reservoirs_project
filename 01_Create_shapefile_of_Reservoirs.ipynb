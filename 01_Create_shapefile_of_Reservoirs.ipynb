{
 "cells": [
  {
   "cell_type": "markdown",
   "metadata": {},
   "source": [
    "## Use this notebook to take water bodies from the HydroPolys layer, match them to the gauge data and add them to the Named_Reservoirs shapefile"
   ]
  },
  {
   "cell_type": "code",
   "execution_count": 1,
   "metadata": {
    "collapsed": true,
    "jupyter": {
     "outputs_hidden": true
    }
   },
   "outputs": [
    {
     "name": "stderr",
     "output_type": "stream",
     "text": [
      "/env/lib/python3.6/site-packages/geopandas/_compat.py:110: UserWarning: The Shapely GEOS version (3.7.2-CAPI-1.11.0 ) is incompatible with the GEOS version PyGEOS was compiled with (3.9.1-CAPI-1.14.2). Conversions between both will be slow.\n",
      "  shapely_geos_version, geos_capi_version_string\n",
      "/env/lib/python3.6/site-packages/datacube/drivers/postgres/_connections.py:87: SADeprecationWarning: Calling URL() directly is deprecated and will be disabled in a future release.  The public constructor for URL is now the URL.create() method.\n",
      "  username=username, password=password,\n"
     ]
    }
   ],
   "source": [
    "%matplotlib inline\n",
    "\n",
    "import sys\n",
    "\n",
    "sys.path.append('Scripts')\n",
    "from datahandling import wofs_fuser\n",
    "\n",
    "import datacube\n",
    "import numpy as np\n",
    "import pandas as pd\n",
    "import xarray as xr\n",
    "import matplotlib.pyplot as plt\n",
    "from pathlib import Path\n",
    "from datacube.utils import masking\n",
    "from datacube.utils import geometry \n",
    "from datacube.utils.geometry import CRS\n",
    "from datacube.helpers import write_geotiff\n",
    "import geopandas as gpd\n",
    "import ipyleaflet as ipyl\n",
    "import ipywidgets as ipyw\n",
    "import json\n",
    "\n",
    "\n",
    "\n",
    "dc = datacube.Datacube()"
   ]
  },
  {
   "cell_type": "markdown",
   "metadata": {},
   "source": [
    "## Read and fomat the polygon you want to add to the Named_Reservoirs shapefile"
   ]
  },
  {
   "cell_type": "code",
   "execution_count": null,
   "metadata": {},
   "outputs": [],
   "source": [
    "csv = 'Library/'\n",
    "gdf = gpd.read_file('HydroPolys/BLUE_ROCK.shp')\n",
    "gdf"
   ]
  },
  {
   "cell_type": "code",
   "execution_count": null,
   "metadata": {},
   "outputs": [],
   "source": [
    "#Get the centroid location of the reservoir\n",
    "\n",
    "gdf = gdf.to_crs(epsg=4326) #4326 is the tag for lat lon format\n",
    "#we need to get the lat and lon of where the dam is to call the right satellite data later\n",
    "#we want the lat and lon to be columns in the data to make it easy when we query the wofs data later\n",
    "#Getting the centroid from the polygon and adding a latitude and longitude column (I found this code on the internet):\n",
    "def getXY(pt):\n",
    "    return (pt.x, pt.y)\n",
    "centroidseries = gdf['geometry'].centroid\n",
    "x,y = [list(t) for t in zip(*map(getXY, centroidseries))]\n",
    "\n",
    "gdf = gdf.assign(lon=x)\n",
    "gdf = gdf.assign(lat=y)\n",
    "gdf = gdf[['NAME', 'SHAPE_Leng', 'SHAPE_Area', 'lat', 'lon', 'geometry']]\n",
    "gdf"
   ]
  },
  {
   "cell_type": "code",
   "execution_count": null,
   "metadata": {},
   "outputs": [],
   "source": [
    "gauge_number_df = pd.read_csv(csv, nrows=3, escapechar='#')\n",
    "column2 = list(gauge_number_df)[1]\n",
    "gauge_number_df = gauge_number_df.rename(columns = {column2 : 'gauge_ID'})\n",
    "ID_str = gauge_number_df.at[0, 'gauge_ID']\n",
    "#ID_str = ID_str.astype(int)\n",
    "#ID_str = ID_str.astype(str)\n",
    "lat = gauge_number_df.at[1, 'gauge_ID']\n",
    "lon = gauge_number_df.at[2, 'gauge_ID']\n",
    "gdf['gauge_ID'] = ID_str\n",
    "gdf['lat_gauge'] = lat\n",
    "gdf['lon_gauge'] = lon\n",
    "gdf['Area_calc'] = ''\n",
    "gdf['staion_nam'] = column2\n",
    "gdf = gdf[['NAME', 'SHAPE_Leng', 'SHAPE_Area', 'lat', 'lon', 'Area_calc', 'staion_nam', 'gauge_ID', 'lat_gauge', 'lon_gauge', 'geometry']]\n",
    "gdf"
   ]
  },
  {
   "cell_type": "code",
   "execution_count": null,
   "metadata": {},
   "outputs": [],
   "source": [
    "gdf2 = gpd.read_file('Named_Reservoirs/Named_Reservoirs9.shp')\n",
    "gdf2 = gdf2.to_crs(epsg=4326)\n",
    "gdf2.tail()"
   ]
  },
  {
   "cell_type": "code",
   "execution_count": null,
   "metadata": {},
   "outputs": [],
   "source": [
    "gdf3 = gdf2.append(gdf)\n",
    "gdf3.tail()"
   ]
  },
  {
   "cell_type": "code",
   "execution_count": null,
   "metadata": {},
   "outputs": [],
   "source": [
    "gdf3.to_file('Named_Reservoirs/Named_Reservoirs9.shp')"
   ]
  },
  {
   "cell_type": "code",
   "execution_count": null,
   "metadata": {},
   "outputs": [],
   "source": []
  }
 ],
 "metadata": {
  "kernelspec": {
   "display_name": "Python 3",
   "language": "python",
   "name": "python3"
  },
  "language_info": {
   "codemirror_mode": {
    "name": "ipython",
    "version": 3
   },
   "file_extension": ".py",
   "mimetype": "text/x-python",
   "name": "python",
   "nbconvert_exporter": "python",
   "pygments_lexer": "ipython3",
   "version": "3.6.9"
  }
 },
 "nbformat": 4,
 "nbformat_minor": 4
}
