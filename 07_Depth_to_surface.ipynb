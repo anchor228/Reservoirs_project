{
 "cells": [
  {
   "cell_type": "markdown",
   "metadata": {},
   "source": [
    "## Make a depth to surface area relationship for a reservoir\n",
    "This notebook will create a table of the depth to surface area relationship for a reservoir. You can then know what the surface area is based on the depth gauge reading. Read the instructions carefully and you should be able to create your own table for any of the reservoirs in the 00_Library or 90_Library folders.\n",
    "\n",
    "Inputs: \n",
    "* csv file of storage level data downloaded from http://www.bom.gov.au/waterdata/\n",
    "* A shapefile of all the reservoirs with their gauge IDs attached (I made one in ArcGIS from the National Hydropolys dataset)\n",
    "\n",
    "Outputs:\n",
    "* Images of the reservoir at each 1m depth slice\n",
    "* A csv file of the depth the surface area table\n",
    "\n",
    "Select a code block and press 'Shift' + 'Enter' to run. They have to be run in order. Let's start with the imports:"
   ]
  },
  {
   "cell_type": "code",
   "execution_count": 1,
   "metadata": {},
   "outputs": [],
   "source": [
    "# Import the modules we will need. This includes modules by DEA to help manage the OpenDataCube.\n",
    "import os\n",
    "import xarray as xr\n",
    "import numpy as np\n",
    "import pandas as pd\n",
    "import csv\n",
    "from tqdm.auto import tqdm #this one is a loading bar, it's cool to add loading bars to loops\n",
    "import rasterio.crs\n",
    "from pandas import DataFrame\n",
    "import geopandas as gpd\n",
    "import matplotlib.gridspec as gs\n",
    "import matplotlib.pyplot as plt\n",
    "from matplotlib import pyplot\n",
    "import datacube\n",
    "\n",
    "import sys\n",
    "sys.path.append('../../Scripts')\n",
    "from dea_spatialtools import xr_rasterize\n",
    "#from dea_datahandling import wofs_fuser #this joins wofs data across tiles correctly\n",
    "from datacube.utils import geometry \n",
    "from datacube.utils.geometry import CRS\n",
    "from datacube.utils import masking\n",
    "from datacube.helpers import ga_pq_fuser, write_geotiff\n",
    "from digitalearthau.utils import wofs_fuser\n",
    "#import DEAPlotting, DEADataHandling\n",
    "import warnings\n",
    "warnings.filterwarnings('ignore', module='datacube')\n",
    "%load_ext autoreload\n",
    "%autoreload 2"
   ]
  },
  {
   "cell_type": "markdown",
   "metadata": {},
   "source": [
    "## User inputs\n",
    "Put the location of your csv file and the reservoirs shapefile in here. All of the file names are in caps and you can press tab to fill the rest of the file name. Check out the Library folder to see the gauge data I have. "
   ]
  },
  {
   "cell_type": "code",
   "execution_count": 2,
   "metadata": {},
   "outputs": [],
   "source": [
    "#User inputs\n",
    "csv = 'Library/KORWEINGUBOORA_RE690.csv'\n",
    "reservoirs_shape_file = 'Named_Reservoirs/Named_Reservoirs9.shp' #This shapefile has the gauge ID attached to the polygons\n",
    "todays_date = '20-02-2022' #for most up to date WOFS data"
   ]
  },
  {
   "cell_type": "markdown",
   "metadata": {},
   "source": [
    "## Find corresponding reservoir polygon\n",
    "If you get an error about 'str' object has no attribute 'astype', you need to hash out the line indicated, or if it's hashed out and you get an error, unhash it. "
   ]
  },
  {
   "cell_type": "code",
   "execution_count": 4,
   "metadata": {},
   "outputs": [
    {
     "name": "stdout",
     "output_type": "stream",
     "text": [
      "The gauge ID is  RE690\n",
      "Here is a picture of the reservoir polygon:\n"
     ]
    },
    {
     "data": {
      "image/svg+xml": [
       "<svg xmlns=\"http://www.w3.org/2000/svg\" xmlns:xlink=\"http://www.w3.org/1999/xlink\" width=\"100.0\" height=\"100.0\" viewBox=\"144.13722728000002 -37.51123471999998 0.013878439999928105 0.01806893999999204\" preserveAspectRatio=\"xMinYMin meet\"><g transform=\"matrix(1,0,0,-1,0,-75.00440049999997)\"><path fill-rule=\"evenodd\" fill=\"#66cc99\" stroke=\"#555555\" stroke-width=\"0.00036137879999984077\" opacity=\"0.6\" d=\"M 144.14665950000006,-37.510565499999984 L 144.14653799999996,-37.51030700000001 L 144.146484,-37.5100645 L 144.14649399999996,-37.50992400000001 L 144.14665349999996,-37.50947400000001 L 144.14666699999998,-37.50929450000001 L 144.14663050000001,-37.509074999999996 L 144.14645900000005,-37.508891000000006 L 144.14633049999998,-37.50882250000001 L 144.145891,-37.508723499999974 L 144.14565600000003,-37.508579 L 144.145396,-37.50844799999999 L 144.14515100000006,-37.50842799999998 L 144.14491799999996,-37.5084435 L 144.14473850000002,-37.508421999999996 L 144.14465099999995,-37.50835649999999 L 144.14456800000005,-37.50824699999998 L 144.14452600000004,-37.50806499999999 L 144.14456900000005,-37.50785300000001 L 144.14468150000005,-37.50776050000002 L 144.14490550000005,-37.507722 L 144.14527450000003,-37.507701 L 144.145399,-37.50765150000001 L 144.1454705,-37.50758999999999 L 144.14550499999996,-37.50753500000002 L 144.14550599999995,-37.5073615 L 144.14545750000002,-37.507236999999975 L 144.14519600000006,-37.50678749999997 L 144.14478350000002,-37.506201499999975 L 144.14461400000005,-37.5059 L 144.14423899999997,-37.50509249999999 L 144.14411099999995,-37.504902500000014 L 144.14397499999995,-37.5047965 L 144.14372849999995,-37.50471750000003 L 144.14324450000004,-37.50467950000001 L 144.14296149999996,-37.50461100000001 L 144.14286249999998,-37.50455599999998 L 144.14274,-37.504434 L 144.14265550000005,-37.504256999999996 L 144.14261999999997,-37.504091500000015 L 144.14263549999998,-37.503713000000005 L 144.14271050000002,-37.503394000000014 L 144.14290949999997,-37.50293049999999 L 144.14293350000003,-37.50272949999999 L 144.14290000000005,-37.50257800000003 L 144.142782,-37.50243599999999 L 144.142651,-37.502343499999995 L 144.14252750000003,-37.502163499999995 L 144.14247150000006,-37.502004 L 144.14243250000004,-37.50171599999999 L 144.142332,-37.50159500000001 L 144.14205149999998,-37.50145850000001 L 144.14195700000005,-37.50137050000001 L 144.14167299999997,-37.5009225 L 144.14143850000005,-37.500440000000026 L 144.141295,-37.500305000000026 L 144.14110800000003,-37.50021650000002 L 144.14093449999996,-37.50021750000002 L 144.14043300000003,-37.500313000000006 L 144.14029649999998,-37.50037800000001 L 144.13998049999998,-37.50046149999997 L 144.13983199999996,-37.5004505 L 144.13968799999998,-37.50034699999998 L 144.139723,-37.50022899999999 L 144.13987150000003,-37.500027999999986 L 144.14069300000006,-37.49933900000002 L 144.1407815,-37.49922750000002 L 144.14088149999998,-37.498931500000026 L 144.1410075,-37.49886750000002 L 144.14140650000002,-37.498873 L 144.14143750000005,-37.498733000000016 L 144.14137900000003,-37.498628499999995 L 144.1411875,-37.49849649999999 L 144.14116550000006,-37.49847799999998 L 144.14114400000005,-37.49845049999999 L 144.14112250000005,-37.498423 L 144.14108950000002,-37.498395000000016 L 144.1410565,-37.49837600000001 L 144.14101200000005,-37.498357 L 144.14097849999996,-37.498347000000024 L 144.140945,-37.49833749999999 L 144.14091099999996,-37.49833649999999 L 144.14086599999996,-37.49832650000002 L 144.1408325,-37.49831649999999 L 144.14081050000004,-37.49830700000001 L 144.14078849999999,-37.498279500000024 L 144.140756,-37.4982425 L 144.1407345,-37.49822399999999 L 144.14072399999998,-37.498197000000005 L 144.14069099999995,-37.49816900000002 L 144.14067,-37.4981325 L 144.14064800000006,-37.49811399999999 L 144.14062650000005,-37.4980865 L 144.14059299999997,-37.49806749999999 L 144.1405605,-37.498039500000004 L 144.14052700000002,-37.498020999999994 L 144.1404715,-37.49799250000001 L 144.14041650000001,-37.49795499999999 L 144.14038349999998,-37.49793649999998 L 144.14032799999995,-37.49789900000002 L 144.14028399999995,-37.497870999999975 L 144.14025100000003,-37.49784299999999 L 144.14022950000003,-37.49782449999998 L 144.14018550000003,-37.497787500000015 L 144.14014150000003,-37.497750499999995 L 144.14008750000005,-37.49768599999999 L 144.14004350000005,-37.497649000000024 L 144.14002200000004,-37.497630000000015 L 144.14000050000004,-37.49760250000003 L 144.13996799999995,-37.497566000000006 L 144.139946,-37.49753850000002 L 144.13991350000003,-37.497510499999976 L 144.13989149999998,-37.49748299999999 L 144.139859,-37.497446000000025 L 144.1398375,-37.49741849999998 L 144.139816,-37.49739099999999 L 144.1397955,-37.49733650000002 L 144.13975300000004,-37.497263499999974 L 144.13971049999998,-37.49718999999999 L 144.139678,-37.4971625 L 144.13965700000006,-37.497117 L 144.13963550000005,-37.49708900000002 L 144.13960299999997,-37.497052499999995 L 144.13958149999996,-37.49702500000001 L 144.13955950000002,-37.49699750000002 L 144.13952700000004,-37.4969605 L 144.13950550000004,-37.49694199999999 L 144.13946199999998,-37.49689599999999 L 144.13942899999995,-37.496868000000006 L 144.13939649999998,-37.496830999999986 L 144.13935249999997,-37.49679400000002 L 144.13931950000006,-37.49676599999998 L 144.13929800000005,-37.49673849999999 L 144.13924350000002,-37.49668350000002 L 144.13919950000002,-37.496654999999976 L 144.13915599999996,-37.49660899999998 L 144.13907949999998,-37.496534999999994 L 144.1390245,-37.496497499999975 L 144.13899200000003,-37.49646999999999 L 144.138959,-37.496442 L 144.13892599999997,-37.496414000000016 L 144.13887050000005,-37.49638599999997 L 144.13882650000005,-37.49635799999999 L 144.13879299999996,-37.49633899999998 L 144.13873750000005,-37.49631049999999 L 144.13870450000002,-37.496291499999984 L 144.13866050000001,-37.4962635 L 144.13862749999998,-37.49623600000001 L 144.13858349999998,-37.496207500000025 L 144.13855,-37.496189000000015 L 144.138506,-37.49616099999997 L 144.13848399999995,-37.49614200000002 L 144.13845100000003,-37.496114499999976 L 144.13842950000003,-37.49609600000002 L 144.13840749999997,-37.49607750000001 L 144.13836349999997,-37.496039999999994 L 144.13833050000005,-37.496012500000006 L 144.1383095,-37.495975999999985 L 144.138288,-37.495948 L 144.1382665,-37.49591149999998 L 144.13824499999998,-37.49588399999999 L 144.13822349999998,-37.4958565 L 144.13819149999995,-37.49580150000003 L 144.1381705,-37.495765000000006 L 144.1381275,-37.495701 L 144.138106,-37.49568249999999 L 144.13808400000005,-37.495655 L 144.13806250000005,-37.49562750000001 L 144.13804200000004,-37.49558200000001 L 144.13801999999998,-37.495554500000026 L 144.13798399999996,-37.49548600000003 L 144.13796749999995,-37.495453999999995 L 144.1379405,-37.495389999999986 L 144.13793650000002,-37.495371999999975 L 144.13791600000002,-37.495326499999976 L 144.13790600000004,-37.49529000000001 L 144.1378965,-37.49524500000001 L 144.1378975,-37.49520899999999 L 144.13789899999995,-37.49517300000002 L 144.13791300000003,-37.49511000000001 L 144.13792550000005,-37.49507449999999 L 144.13793850000002,-37.49502949999999 L 144.13796249999996,-37.49499400000002 L 144.1379865,-37.494958999999994 L 144.13799949999998,-37.494913999999994 L 144.13802350000003,-37.49487850000003 L 144.1380355,-37.49485199999998 L 144.13804800000003,-37.49482499999999 L 144.138061,-37.494789500000024 L 144.138062,-37.49476249999998 L 144.13806350000004,-37.49471749999998 L 144.13806499999998,-37.49468150000001 L 144.13807699999995,-37.494654500000024 L 144.13806799999998,-37.49460049999999 L 144.13806899999997,-37.4945735 L 144.13807050000003,-37.49453749999998 L 144.138061,-37.49449199999998 L 144.13805100000002,-37.49444649999998 L 144.13802999999996,-37.494410000000016 L 144.13801999999998,-37.49437399999999 L 144.13799900000004,-37.494328499999995 L 144.13800000000003,-37.494301500000006 L 144.13797950000003,-37.49425600000001 L 144.13797,-37.49421050000001 L 144.137971,-37.494174499999986 L 144.13797250000005,-37.49413850000002 L 144.137963,-37.49409300000002 L 144.13795349999998,-37.49403899999999 L 144.13795500000003,-37.49400300000002 L 144.13795649999997,-37.493967 L 144.137969,-37.493930999999975 L 144.13799300000005,-37.493904499999985 L 144.13800500000002,-37.493877999999995 L 144.13806250000005,-37.4938525 L 144.13808600000004,-37.49383499999999 L 144.13813100000004,-37.49384500000002 L 144.1381695,-37.493863999999974 L 144.13820850000002,-37.49388299999998 L 144.13828650000005,-37.49391650000001 L 144.13829750000002,-37.493921 L 144.1383535,-37.49394050000001 L 144.13839800000005,-37.49395049999998 L 144.13843199999997,-37.49395149999998 L 144.13847699999997,-37.49396150000001 L 144.13851050000005,-37.49397149999999 L 144.13855550000005,-37.49398150000002 L 144.13858900000002,-37.49398200000002 L 144.13862849999998,-37.49399199999999 L 144.1386675,-37.49400200000002 L 144.13874650000002,-37.49400400000002 L 144.13882550000005,-37.49400600000001 L 144.13885949999997,-37.49400700000001 L 144.13889300000005,-37.49401649999999 L 144.13892650000003,-37.49402650000002 L 144.13897150000003,-37.49403649999999 L 144.13899349999997,-37.494055 L 144.1390265,-37.49407400000001 L 144.13906050000003,-37.49408349999999 L 144.139093,-37.494111499999974 L 144.13914799999998,-37.49415800000003 L 144.1391585,-37.49417599999998 L 144.13919099999998,-37.494213 L 144.139224,-37.49424099999999 L 144.1392565,-37.49427750000001 L 144.139278,-37.494305499999996 L 144.13931100000002,-37.494324000000006 L 144.13932150000005,-37.49435149999999 L 144.13935449999997,-37.49437 L 144.13938700000006,-37.494407000000024 L 144.13942050000003,-37.494425999999976 L 144.13946399999998,-37.494462999999996 L 144.139497,-37.49449099999998 L 144.139541,-37.494519000000025 L 144.1396075,-37.49456550000002 L 144.1396515,-37.49459350000001 L 144.13968450000004,-37.49461250000002 L 144.13973999999996,-37.49464999999998 L 144.13978399999996,-37.49467800000002 L 144.13984000000005,-37.49469749999997 L 144.13988400000005,-37.494725500000015 L 144.13991699999997,-37.494744500000024 L 144.1399725,-37.49477250000001 L 144.14002849999997,-37.49479200000002 L 144.14006199999994,-37.49480199999999 L 144.1401065,-37.494821 L 144.14016249999997,-37.49484050000001 L 144.14022950000003,-37.49485099999998 L 144.14026349999995,-37.494861000000014 L 144.14029700000003,-37.49486150000001 L 144.14034249999997,-37.49486250000001 L 144.14035349999995,-37.494865000000004 L 144.14043249999997,-37.494865000000004 L 144.14051199999994,-37.494867 L 144.14054550000003,-37.4948675 L 144.14059099999997,-37.49485950000002 L 144.140625,-37.494860500000016 L 144.14067050000006,-37.49485249999998 L 144.14075000000003,-37.494854499999974 L 144.14079549999997,-37.494846499999994 L 144.1408745,-37.49484849999999 L 144.14095399999997,-37.49484150000001 L 144.14104399999997,-37.4948435 L 144.14108950000002,-37.4948445 L 144.1411465,-37.49483700000002 L 144.1411915,-37.494838000000016 L 144.141259,-37.49484899999999 L 144.14132600000005,-37.494868499999995 L 144.14138200000002,-37.494888 L 144.14147100000002,-37.49492600000002 L 144.14150400000005,-37.49494499999997 L 144.14154799999994,-37.494973000000016 L 144.14157,-37.494991500000026 L 144.141614,-37.49502849999999 L 144.14164700000003,-37.495056499999976 L 144.14166850000004,-37.49508400000002 L 144.14171199999998,-37.49512099999998 L 144.14172299999996,-37.49513949999999 L 144.14175550000004,-37.495176000000015 L 144.141799,-37.49521349999998 L 144.14180950000002,-37.49523149999999 L 144.14183149999997,-37.495258999999976 L 144.14185299999997,-37.495277499999986 L 144.1419125,-37.49534649999998 L 144.14193999999998,-37.495379000000014 L 144.14196749999996,-37.49541099999999 L 144.14202650000004,-37.495479999999986 L 144.14204800000005,-37.495507499999974 L 144.14206950000005,-37.49553550000002 L 144.14210200000002,-37.495581000000016 L 144.14212350000003,-37.4956085 L 144.14214449999997,-37.495645000000025 L 144.1421765,-37.4957 L 144.14220799999998,-37.495754999999974 L 144.1422185,-37.49578200000002 L 144.14225,-37.49584599999997 L 144.14227100000005,-37.49589150000003 L 144.142291,-37.49595499999998 L 144.14231199999995,-37.49600049999998 L 144.14232200000004,-37.496028000000024 L 144.142332,-37.49606399999999 L 144.1423535,-37.49610100000001 L 144.1423635,-37.496136999999976 L 144.14237400000002,-37.496155499999986 L 144.14239499999996,-37.49619200000001 L 144.14241649999997,-37.49622849999997 L 144.14243799999997,-37.49625600000002 L 144.14246000000003,-37.49627450000003 L 144.14248150000003,-37.49629299999998 L 144.14253699999995,-37.49632150000002 L 144.14257050000003,-37.496340499999974 L 144.142604,-37.49635000000001 L 144.14265999999998,-37.496369500000014 L 144.14270450000004,-37.49637949999999 L 144.14272700000004,-37.49638900000002 L 144.14278249999995,-37.49640849999997 L 144.14283850000004,-37.49642799999998 L 144.142872,-37.49643800000001 L 144.14290500000004,-37.49645650000002 L 144.14296049999996,-37.49648500000001 L 144.14298299999996,-37.49649449999998 L 144.143016,-37.496522500000026 L 144.14304849999996,-37.49655000000001 L 144.14308200000005,-37.49656900000002 L 144.14311499999997,-37.49659700000001 L 144.14314750000005,-37.496624499999996 L 144.1431695,-37.496643000000006 L 144.14322400000003,-37.49669849999998 L 144.14325699999995,-37.49672650000002 L 144.143279,-37.496744999999976 L 144.14332249999995,-37.49679099999997 L 144.14334399999996,-37.49680949999998 L 144.14335500000004,-37.496827999999994 L 144.14337650000004,-37.496846500000004 L 144.1433985,-37.49687399999999 L 144.14342,-37.49690149999998 L 144.14344100000005,-37.496938 L 144.143462,-37.4969835 L 144.14348099999995,-37.497033499999986 L 144.14349249999998,-37.49706550000002 L 144.14349549999997,-37.497097 L 144.14350049999996,-37.49715600000002 L 144.14349900000002,-37.497191999999984 L 144.14350850000005,-37.49724600000002 L 144.143507,-37.497281999999984 L 144.14350549999995,-37.497326999999984 L 144.14350449999995,-37.49735399999997 L 144.143504,-37.49736300000001 L 144.14349049999998,-37.49742600000002 L 144.14348600000005,-37.49748899999997 L 144.14347499999997,-37.497533499999975 L 144.143463,-37.497551499999986 L 144.14347299999997,-37.49758750000001 L 144.143459,-37.49765050000002 L 144.14344649999998,-37.49768599999999 L 144.14344500000004,-37.49772200000001 L 144.14343299999996,-37.497749 L 144.14343050000002,-37.497802999999976 L 144.14342899999997,-37.497847999999976 L 144.14342799999997,-37.49787500000002 L 144.1434375,-37.49792000000002 L 144.14344749999998,-37.49795649999999 L 144.14346850000004,-37.498001999999985 L 144.14347799999996,-37.498047499999984 L 144.1434875,-37.498092499999984 L 144.143509,-37.49811999999997 L 144.14351950000002,-37.498147500000016 L 144.1435295,-37.498174500000005 L 144.14353949999997,-37.498211000000026 L 144.14356099999998,-37.49824749999999 L 144.143593,-37.49829349999999 L 144.14362500000004,-37.49833899999999 L 144.14363500000002,-37.49837550000001 L 144.14365650000002,-37.498402999999996 L 144.14367800000002,-37.49843950000002 L 144.14369950000003,-37.498467000000005 L 144.1437095,-37.49849449999999 L 144.143731,-37.49852199999998 L 144.14398700000004,-37.49880300000001 L 144.14403349999998,-37.49891000000002 L 144.14403900000002,-37.499007000000006 L 144.14391250000006,-37.499408500000015 L 144.14391899999998,-37.499492499999974 L 144.14398649999998,-37.49964349999999 L 144.14414750000003,-37.49980599999998 L 144.14450450000004,-37.499933 L 144.14496299999996,-37.50003450000003 L 144.145129,-37.500095499999986 L 144.14535899999998,-37.500225 L 144.14553550000005,-37.50037550000002 L 144.14568299999996,-37.50055950000001 L 144.14597400000002,-37.501171 L 144.14627900000005,-37.501690499999995 L 144.1465065,-37.50224700000001 L 144.14661450000006,-37.50234899999998 L 144.14673949999997,-37.502406500000006 L 144.14727800000003,-37.502509499999974 L 144.14741800000002,-37.50264550000003 L 144.14756150000005,-37.502895000000024 L 144.1476775,-37.5033535 L 144.14770150000004,-37.50379349999997 L 144.14775350000002,-37.503900999999985 L 144.14807099999996,-37.503810999999985 L 144.14820350000002,-37.50388049999998 L 144.14822149999998,-37.50413150000003 L 144.14835649999998,-37.504324499999996 L 144.14840649999996,-37.50469450000003 L 144.14847099999997,-37.5048395 L 144.1487065,-37.50520849999998 L 144.14877650000005,-37.50542100000001 L 144.14887850000002,-37.506088499999976 L 144.14898100000005,-37.506377999999984 L 144.1495645,-37.50713999999999 L 144.14966649999997,-37.50735850000001 L 144.14983400000006,-37.507540000000006 L 144.15000899999995,-37.507558500000016 L 144.15027450000002,-37.5075415 L 144.15032900000006,-37.5075635 L 144.15040650000003,-37.507619499999976 L 144.15043649999996,-37.50771150000003 L 144.15040150000004,-37.507925 L 144.15036099999998,-37.508197499999994 L 144.15020000000004,-37.50885249999999 L 144.15009050000003,-37.50944900000002 L 144.14665950000006,-37.510565499999984 z\" /></g></svg>"
      ],
      "text/plain": [
       "<shapely.geometry.polygon.Polygon at 0x7f78096347c0>"
      ]
     },
     "execution_count": 4,
     "metadata": {},
     "output_type": "execute_result"
    }
   ],
   "source": [
    "#Get the name and ID of the gauge \n",
    "gauge_number_df = pd.read_csv(csv, nrows=1, escapechar='#')\n",
    "column2 = list(gauge_number_df)[1]\n",
    "gauge_number_df = gauge_number_df.rename(columns = {column2 : 'gauge_ID'})\n",
    "ID_str = gauge_number_df.at[0, 'gauge_ID']\n",
    "#ID_str = ID_str.astype(str) #hash/unhash this line out if you get an error\n",
    "# Read the reservoirs shapefile\n",
    "gdf = gpd.read_file(reservoirs_shape_file)\n",
    "gdf = gdf.set_index(['gauge_ID'])\n",
    "\n",
    "row = gdf.loc[ID_str]\n",
    "polygon = row.geometry\n",
    "print('The gauge ID is ', ID_str)\n",
    "print('Here is a picture of the reservoir polygon:')\n",
    "polygon"
   ]
  },
  {
   "cell_type": "code",
   "execution_count": 5,
   "metadata": {},
   "outputs": [
    {
     "data": {
      "text/plain": [
       "shapely.geometry.polygon.Polygon"
      ]
     },
     "execution_count": 5,
     "metadata": {},
     "output_type": "execute_result"
    }
   ],
   "source": [
    "type(polygon)"
   ]
  },
  {
   "cell_type": "markdown",
   "metadata": {},
   "source": [
    "## Query satellite data\n",
    "Now we'll query all of the WOFS data ever for inside that polygon. We'll mask out anything outside the polygon because we don't want other waterbodies getting counted in the image.\n",
    "\n",
    "This block has the dc.load() function in it (dc stands for datacube). Usually this loads the satellite images from the Open DataCube, but I put a dask_chunks argument in there so it won't load the images yet, it will just load the parameters, because that's way faster and that's enough to link the data. This cell can take a minute to run, longer for large dams. You'll know when it's finished when the square brackets in the top left stop being a star and become a number."
   ]
  },
  {
   "cell_type": "code",
   "execution_count": 6,
   "metadata": {},
   "outputs": [],
   "source": [
    "query = {'time': ('01-01-1988', todays_date)}\n",
    "\n",
    "dc = datacube.Datacube(app='dc-WOfS') #this is how you access the open data cube where the satellite data is\n",
    "\n",
    "geom = geometry.Geometry(geom=row.geometry, crs=gdf.crs)\n",
    "query.update({'geopolygon': geom})\n",
    "\n",
    "#Load parameters of satellite data in preparation to merge it with gauge data\n",
    "wofs_albers= dc.load(product = 'wofs_albers', dask_chunks = {}, \n",
    "                     group_by='solar_day', fuse_func = wofs_fuser, **query) #wofs_fuser is important, it fixes thing on the edge of tiles"
   ]
  },
  {
   "cell_type": "code",
   "execution_count": 10,
   "metadata": {},
   "outputs": [
    {
     "ename": "TypeError",
     "evalue": "Please provide an Affine transform object using the `transform` parameter (e.g. `from affine import Affine; Affine(30.0, 0.0, 548040.0, 0.0, -30.0, 6886890.0)`",
     "output_type": "error",
     "traceback": [
      "\u001b[0;31m---------------------------------------------------------------------------\u001b[0m",
      "\u001b[0;31mAttributeError\u001b[0m                            Traceback (most recent call last)",
      "\u001b[0;32m~/anchor228/Reservoirs_project/../../Tools/dea_tools/spatial.py\u001b[0m in \u001b[0;36mxr_rasterize\u001b[0;34m(gdf, da, attribute_col, crs, transform, name, x_dim, y_dim, export_tiff, verbose, **rasterio_kwargs)\u001b[0m\n\u001b[1;32m    246\u001b[0m             \u001b[0;31m# First, try to take transform info from geobox\u001b[0m\u001b[0;34m\u001b[0m\u001b[0;34m\u001b[0m\u001b[0;34m\u001b[0m\u001b[0m\n\u001b[0;32m--> 247\u001b[0;31m             \u001b[0mtransform\u001b[0m \u001b[0;34m=\u001b[0m \u001b[0mda\u001b[0m\u001b[0;34m.\u001b[0m\u001b[0mgeobox\u001b[0m\u001b[0;34m.\u001b[0m\u001b[0mtransform\u001b[0m\u001b[0;34m\u001b[0m\u001b[0;34m\u001b[0m\u001b[0m\n\u001b[0m\u001b[1;32m    248\u001b[0m         \u001b[0;31m# If no geobox\u001b[0m\u001b[0;34m\u001b[0m\u001b[0;34m\u001b[0m\u001b[0;34m\u001b[0m\u001b[0m\n",
      "\u001b[0;31mAttributeError\u001b[0m: 'NoneType' object has no attribute 'transform'",
      "\nDuring handling of the above exception, another exception occurred:\n",
      "\u001b[0;31mAttributeError\u001b[0m                            Traceback (most recent call last)",
      "\u001b[0;32m~/anchor228/Reservoirs_project/../../Tools/dea_tools/spatial.py\u001b[0m in \u001b[0;36mxr_rasterize\u001b[0;34m(gdf, da, attribute_col, crs, transform, name, x_dim, y_dim, export_tiff, verbose, **rasterio_kwargs)\u001b[0m\n\u001b[1;32m    251\u001b[0m                 \u001b[0;31m# Try getting transform from 'transform' attribute\u001b[0m\u001b[0;34m\u001b[0m\u001b[0;34m\u001b[0m\u001b[0;34m\u001b[0m\u001b[0m\n\u001b[0;32m--> 252\u001b[0;31m                 \u001b[0mtransform\u001b[0m \u001b[0;34m=\u001b[0m \u001b[0mda\u001b[0m\u001b[0;34m.\u001b[0m\u001b[0mtransform\u001b[0m\u001b[0;34m\u001b[0m\u001b[0;34m\u001b[0m\u001b[0m\n\u001b[0m\u001b[1;32m    253\u001b[0m             \u001b[0;32mexcept\u001b[0m\u001b[0;34m:\u001b[0m\u001b[0;34m\u001b[0m\u001b[0;34m\u001b[0m\u001b[0m\n",
      "\u001b[0;32m/env/lib/python3.8/site-packages/xarray/core/common.py\u001b[0m in \u001b[0;36m__getattr__\u001b[0;34m(self, name)\u001b[0m\n\u001b[1;32m    238\u001b[0m                     \u001b[0;32mreturn\u001b[0m \u001b[0msource\u001b[0m\u001b[0;34m[\u001b[0m\u001b[0mname\u001b[0m\u001b[0;34m]\u001b[0m\u001b[0;34m\u001b[0m\u001b[0;34m\u001b[0m\u001b[0m\n\u001b[0;32m--> 239\u001b[0;31m         raise AttributeError(\n\u001b[0m\u001b[1;32m    240\u001b[0m             \u001b[0;34mf\"{type(self).__name__!r} object has no attribute {name!r}\"\u001b[0m\u001b[0;34m\u001b[0m\u001b[0;34m\u001b[0m\u001b[0m\n",
      "\u001b[0;31mAttributeError\u001b[0m: 'Dataset' object has no attribute 'transform'",
      "\nDuring handling of the above exception, another exception occurred:\n",
      "\u001b[0;31mTypeError\u001b[0m                                 Traceback (most recent call last)",
      "\u001b[0;32m/tmp/ipykernel_214/4293627892.py\u001b[0m in \u001b[0;36m<module>\u001b[0;34m\u001b[0m\n\u001b[1;32m      1\u001b[0m \u001b[0;31m# Mask out anything outside the reservoir extent\u001b[0m\u001b[0;34m\u001b[0m\u001b[0;34m\u001b[0m\u001b[0;34m\u001b[0m\u001b[0m\n\u001b[0;32m----> 2\u001b[0;31m \u001b[0mpoly_mask\u001b[0m \u001b[0;34m=\u001b[0m \u001b[0mxr_rasterize\u001b[0m\u001b[0;34m(\u001b[0m\u001b[0mgdf\u001b[0m\u001b[0;34m.\u001b[0m\u001b[0mloc\u001b[0m\u001b[0;34m[\u001b[0m\u001b[0;34m[\u001b[0m\u001b[0mID_str\u001b[0m\u001b[0;34m]\u001b[0m\u001b[0;34m]\u001b[0m\u001b[0;34m,\u001b[0m \u001b[0mwofs_albers\u001b[0m\u001b[0;34m,\u001b[0m \u001b[0mcrs\u001b[0m\u001b[0;34m=\u001b[0m\u001b[0mgdf\u001b[0m\u001b[0;34m.\u001b[0m\u001b[0mcrs\u001b[0m\u001b[0;34m)\u001b[0m\u001b[0;34m\u001b[0m\u001b[0;34m\u001b[0m\u001b[0m\n\u001b[0m\u001b[1;32m      3\u001b[0m \u001b[0mwofs_albers\u001b[0m \u001b[0;34m=\u001b[0m \u001b[0mwofs_albers\u001b[0m\u001b[0;34m.\u001b[0m\u001b[0mwhere\u001b[0m\u001b[0;34m(\u001b[0m\u001b[0mpoly_mask\u001b[0m\u001b[0;34m,\u001b[0m \u001b[0mother\u001b[0m\u001b[0;34m=\u001b[0m\u001b[0mwofs_albers\u001b[0m\u001b[0;34m.\u001b[0m\u001b[0mwater\u001b[0m\u001b[0;34m.\u001b[0m\u001b[0mnodata\u001b[0m\u001b[0;34m)\u001b[0m \u001b[0;31m#put other argument or all the data turns into 0?\u001b[0m\u001b[0;34m\u001b[0m\u001b[0;34m\u001b[0m\u001b[0m\n",
      "\u001b[0;32m~/anchor228/Reservoirs_project/../../Tools/dea_tools/spatial.py\u001b[0m in \u001b[0;36mxr_rasterize\u001b[0;34m(gdf, da, attribute_col, crs, transform, name, x_dim, y_dim, export_tiff, verbose, **rasterio_kwargs)\u001b[0m\n\u001b[1;32m    254\u001b[0m                 \u001b[0;31m# If neither of those options work, raise an exception telling the\u001b[0m\u001b[0;34m\u001b[0m\u001b[0;34m\u001b[0m\u001b[0;34m\u001b[0m\u001b[0m\n\u001b[1;32m    255\u001b[0m                 \u001b[0;31m# user to provide a transform\u001b[0m\u001b[0;34m\u001b[0m\u001b[0;34m\u001b[0m\u001b[0;34m\u001b[0m\u001b[0m\n\u001b[0;32m--> 256\u001b[0;31m                 raise TypeError(\"Please provide an Affine transform object using the \"\n\u001b[0m\u001b[1;32m    257\u001b[0m                                 \u001b[0;34m\"`transform` parameter (e.g. `from affine import \"\u001b[0m\u001b[0;34m\u001b[0m\u001b[0;34m\u001b[0m\u001b[0m\n\u001b[1;32m    258\u001b[0m                                 \u001b[0;34m\"Affine; Affine(30.0, 0.0, 548040.0, 0.0, -30.0, \"\u001b[0m\u001b[0;34m\u001b[0m\u001b[0;34m\u001b[0m\u001b[0m\n",
      "\u001b[0;31mTypeError\u001b[0m: Please provide an Affine transform object using the `transform` parameter (e.g. `from affine import Affine; Affine(30.0, 0.0, 548040.0, 0.0, -30.0, 6886890.0)`"
     ]
    }
   ],
   "source": [
    "# Mask out anything outside the reservoir extent\n",
    "poly_mask = xr_rasterize(gdf.loc[[ID_str]], wofs_albers, crs=gdf.crs)\n",
    "wofs_albers = wofs_albers.where(poly_mask, other=wofs_albers.water.nodata) #put other argument or all the data turns into 0?"
   ]
  },
  {
   "cell_type": "code",
   "execution_count": null,
   "metadata": {},
   "outputs": [],
   "source": [
    "poly_mask.plot()"
   ]
  },
  {
   "cell_type": "markdown",
   "metadata": {},
   "source": [
    "## Merge depth gauge data with satellite data\n",
    "We can link the gauge data and satellite data together on the time axis. Then we can call the satellite passes by depth, instead of just by date. "
   ]
  },
  {
   "cell_type": "code",
   "execution_count": null,
   "metadata": {},
   "outputs": [],
   "source": [
    "#Read the gauge data\n",
    "data = pd.read_csv(csv, error_bad_lines = False, skiprows=9, escapechar='#',\n",
    "                     parse_dates=['Timestamp'], \n",
    "                     index_col=('Timestamp'),\n",
    "                    date_parser=lambda x: pd.to_datetime(x.rsplit('+', 1)[0]))\n",
    "gauge_data = data.drop(columns=['Quality Code', 'Interpolation Type'])\n",
    "\n",
    "#Merge the gauge data with the satellite data\n",
    "gauge_data_xr = gauge_data.to_xarray() #convert gauge data to xarray\n",
    "merged_data = gauge_data_xr.interp(Timestamp=wofs_albers.time) #use xarrays .interp() function to merge\n",
    "gauge_data = gauge_data.dropna()"
   ]
  },
  {
   "cell_type": "markdown",
   "metadata": {},
   "source": [
    "## Organise the depth gauge data into slices of depth\n",
    "This cell also has a part in it where it takes every 2m instead of every 1m if the reservoir is really deep (goes up and down more than 25m). This makes it more accurate in my opinion because you get more passes per depth interval, so the images that get generated are more accurate. You can just interpolate every other meter later. "
   ]
  },
  {
   "cell_type": "code",
   "execution_count": null,
   "metadata": {},
   "outputs": [],
   "source": [
    "#Get the depth range and intervals\n",
    "gauge_data['Value'] = gauge_data['Value'].round(0)\n",
    "depth_integers = gauge_data.astype(np.int64)"
   ]
  },
  {
   "cell_type": "code",
   "execution_count": null,
   "metadata": {},
   "outputs": [],
   "source": [
    "max_depth = depth_integers.Value.max()\n",
    "min_depth = depth_integers.Value.min()\n",
    "integer_array = depth_integers.Value.unique()\n",
    "integer_list = integer_array.tolist()\n",
    "\n",
    "#Take every 2m of depth if the reservoir is large \n",
    "if len(integer_list) > 25:\n",
    "    integer_list2 = integer_list[::2]\n",
    "    print('This reservoir will take every 2m instead of every 1m, because it is quite large.')\n",
    "else:\n",
    "        integer_list2 = integer_list\n",
    "        print('This reservoir will take every 1m of depth')\n",
    "        \n",
    "print('Number of depth intervals = ', len(integer_list2))\n",
    "integer_list.sort()\n",
    "integer_list2"
   ]
  },
  {
   "cell_type": "markdown",
   "metadata": {},
   "source": [
    "## Generate an image of the reservoir at each meter of depth\n",
    "Here's the part where the satellite data gets called out of the datacube and organised into depth slices. In you files on the left hand side there you should see a folder called images. That's where all the pictures will get saved as png files. Download those images to your local machine and then I suggest delete them off the sandbox because they just take up space and you don't need them for anything else. This cell will take a bit longer to run because it has to load a lot of satellite passes and cloud mask them all.   "
   ]
  },
  {
   "cell_type": "code",
   "execution_count": null,
   "metadata": {},
   "outputs": [],
   "source": [
    "surface_area_list = []\n",
    "number_of_images_list = []\n",
    "images_post_masking = []\n",
    "for i in tqdm(integer_list2, total=len(integer_list2)):\n",
    "    #If there are more than 25 meters in depth intervals, take every 2m depth\n",
    "    if len(integer_list) > 25:\n",
    "        specified_level = merged_data.where((merged_data.Value > i) & \n",
    "                                    (merged_data.Value < i+2), drop=True)\n",
    "    else:\n",
    "        specified_level = merged_data.where((merged_data.Value > i) & \n",
    "                                    (merged_data.Value < i+1), drop=True)\n",
    "    \n",
    "    date_list = specified_level.time.values[:250]\n",
    "    number_of_images = len(date_list)\n",
    "    number_of_images_list.append(number_of_images)\n",
    "    specified_passes = wofs_albers.sel(time=date_list).compute() #This .compute() Xarray function loads actual images\n",
    "    \n",
    "    #cloudmask (Claire Krause wrote this for me)\n",
    "    cc = masking.make_mask(specified_passes.water, cloud=True)\n",
    "    ncloud_pixels = cc.sum(dim=['x', 'y'])\n",
    "    # Calculate the total number of pixels per timestep\n",
    "    npixels_per_slice = (specified_passes.water.shape[1] * \n",
    "                         specified_passes.water.shape[2])\n",
    "    cloud_pixels_fraction = (ncloud_pixels / npixels_per_slice)\n",
    "    clear_specified_passes = specified_passes.water.isel(\n",
    "        time=cloud_pixels_fraction < 0.1)\n",
    "    images_post_masking.append(len(clear_specified_passes.time))\n",
    "    wet = masking.make_mask(clear_specified_passes, wet=True).sum(dim='time')\n",
    "    dry = masking.make_mask(clear_specified_passes, dry=True).sum(dim='time')\n",
    "    clear = wet + dry\n",
    "    frequency = wet / clear\n",
    "    frequency = frequency.fillna(0)  \n",
    "    \n",
    "    #Get area from the satellite data\n",
    "    #get the frequency array\n",
    "    frequency_array = frequency.values\n",
    "    #Turn any pixel in the frequency array with a value greater than 0.2 into a pixel of value 1\n",
    "    #if the pixel value is 0.2 or lower it gets value 0\n",
    "    is_water = np.where((frequency_array > 0.2),1,0)\n",
    "    #give the 'frequency' xarray back its new values of zero and one\n",
    "    frequency.values = is_water\n",
    "    #sum up the pixels\n",
    "    number_water_pixels = frequency.sum(dim=['x', 'y'])\n",
    "    #get the number\n",
    "    number_water_pixels = number_water_pixels.values.tolist()\n",
    "    #multiply by pixel size to get area in m2\n",
    "    area_m2 = number_water_pixels*(25*25)\n",
    "    \n",
    "    surface_area_list.append(area_m2)\n",
    "    \n",
    "        #Plotting the image (keep these hashed out if you don't want to see images)\n",
    "    fig = plt.figure()\n",
    "    frequency.plot(figsize = (7,5))\n",
    "    name = ID_str, i\n",
    "    images = plt.savefig('images/'+str(name)+'.png')\n",
    "    plt.close(fig)\n"
   ]
  },
  {
   "cell_type": "markdown",
   "metadata": {},
   "source": [
    "## Make a table of the depth to surface area relationship\n",
    "Nice, you made image slices of the reservoir! Now let's make the table. You might notice that some of the images are blank or bad quality and therefore produce an inaccurate calculation of the surface area. The reason this happens is because there weren't many cloud free passes for that depth over the last 30 years. It's OK, we can fix it later. If there are outliers in the gauge data csv file, you will get a lot of zero values on the lowest or highest depths because they aren't real. These get deleted later. Anyway, let's see what the initial depth to surface area table looks like and then next we'll fix it up."
   ]
  },
  {
   "cell_type": "code",
   "execution_count": null,
   "metadata": {},
   "outputs": [],
   "source": [
    "#create dataframe of depth to surface area \n",
    "depth_to_area_df = DataFrame(integer_list2, columns=['Depth'])\n",
    "depth_to_area_df['Surface Area'] = surface_area_list\n",
    "depth_to_area_df['pre masking'] = number_of_images_list\n",
    "depth_to_area_df['post masking'] = images_post_masking\n",
    "depth_to_area_df['ID'] = ID_str\n",
    "depth_to_area_df = depth_to_area_df.sort_values(by=['Depth'])\n",
    "depth_to_area_df = depth_to_area_df.reset_index()\n",
    "depth_to_area_df = depth_to_area_df[['ID', 'Depth','Surface Area', 'pre masking', 'post masking']]\n",
    "depth_to_area_df"
   ]
  },
  {
   "cell_type": "markdown",
   "metadata": {},
   "source": [
    "## Fix with interpolation\n",
    "If you got some outliers in the depth gauge data or any dodgy images/surface area calculations, we can fix them here. This block basically says 'if the surface area calculation is zero, or smaller than the one before it, delete' because it doesn't make sense for surface area to go down if depth goes up. It will then interpolate the surface area values instead. If you did a large reservoir like Eucumbene or something, this is where every other meter gets its surface area calculated. The only thing this code won't fix is if your first non-zero value (ie lowest depth you have an image for) is a bad quality image (for example the surface area might be calculated as 20'000m2 from an image with scan lines through it, when it should have been 150'000m2) but if your first non-zero image looks ok to you then you're good. This code also won't interpolate the very highest depth if it's a bad image, it will just delete it. "
   ]
  },
  {
   "cell_type": "code",
   "execution_count": null,
   "metadata": {},
   "outputs": [],
   "source": [
    "obs_list = []\n",
    "for i, obs in depth_to_area_df.iterrows():\n",
    "    if i == 0: #We always put the first point in, even if it's bad (will fix later)\n",
    "        obs_list.append(obs)\n",
    "        continue\n",
    "    if obs[\"Surface Area\"] > obs_list[-1][\"Surface Area\"]: # if the number is bigger than the number before it, keep.\n",
    "        obs_list.append(obs)\n",
    "\n",
    "obs_df = pd.DataFrame(obs_list)\n",
    "obs_df2 = obs_df\n",
    "obs_df2.drop(obs_df2[obs_df2['Surface Area'] == 0].index, inplace=True) #drop zero values because they stuff up the interpolation\n",
    "obs_df3 = obs_df2.set_index(\"Depth\")\n",
    "min_ = obs_df3.index.min()\n",
    "max_ = obs_df3.index.max()\n",
    "obs_df4 = obs_df3.reindex(range(min_, max_+1))\n",
    "obs_df4['Surface Area'] = obs_df4['Surface Area'].interpolate()\n",
    "obs_df4['Depth'] = obs_df4.index\n",
    "obs_df4['ID'] = obs_df3.at[min_, 'ID']\n",
    "obs_df4 = obs_df4[['ID', 'Depth', 'Surface Area', 'post masking']]\n",
    "obs_df4 = obs_df4.set_index(\"ID\")\n",
    "obs_df4 = obs_df4.sort_values(by='Depth')\n",
    "obs_df4"
   ]
  },
  {
   "cell_type": "markdown",
   "metadata": {},
   "source": [
    "## Save the table as a csv file\n",
    "OK that should look better now. You can save this table as a csv and download it to your local machine. Don't forget you can save the images too, they are in the images folder!"
   ]
  },
  {
   "cell_type": "code",
   "execution_count": null,
   "metadata": {},
   "outputs": [],
   "source": [
    "obs_df4.to_csv('images/'+ID_str +'.csv')"
   ]
  },
  {
   "cell_type": "code",
   "execution_count": null,
   "metadata": {},
   "outputs": [],
   "source": []
  },
  {
   "cell_type": "code",
   "execution_count": null,
   "metadata": {},
   "outputs": [],
   "source": []
  }
 ],
 "metadata": {
  "kernelspec": {
   "display_name": "Python 3 (ipykernel)",
   "language": "python",
   "name": "python3"
  },
  "language_info": {
   "codemirror_mode": {
    "name": "ipython",
    "version": 3
   },
   "file_extension": ".py",
   "mimetype": "text/x-python",
   "name": "python",
   "nbconvert_exporter": "python",
   "pygments_lexer": "ipython3",
   "version": "3.8.10"
  }
 },
 "nbformat": 4,
 "nbformat_minor": 4
}
