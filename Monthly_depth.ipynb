{
 "cells": [
  {
   "cell_type": "markdown",
   "metadata": {},
   "source": [
    "## Get lots of csv files of daily depth data and concatenate them into one file of monthly gauge data\n",
    "This notebook generates a csv file of average monthly depth data for multiple reservoirs. This csv file can be copied and pasted into the depth-to-surface area spreadsheet and index matched so you can get monthly surface area based on monthly depth.  "
   ]
  },
  {
   "cell_type": "code",
   "execution_count": 1,
   "metadata": {},
   "outputs": [],
   "source": [
    "import os\n",
    "import pandas as pd\n",
    "from tqdm.auto import tqdm #this is just the progress bar function that I like"
   ]
  },
  {
   "cell_type": "code",
   "execution_count": 2,
   "metadata": {},
   "outputs": [
    {
     "data": {
      "application/vnd.jupyter.widget-view+json": {
       "model_id": "06fce07bce224b4289e431778118570e",
       "version_major": 2,
       "version_minor": 0
      },
      "text/plain": [
       "HBox(children=(HTML(value=''), FloatProgress(value=0.0, max=26.0), HTML(value='')))"
      ]
     },
     "metadata": {},
     "output_type": "display_data"
    },
    {
     "name": "stdout",
     "output_type": "stream",
     "text": [
      "\n"
     ]
    },
    {
     "data": {
      "text/html": [
       "<div>\n",
       "<style scoped>\n",
       "    .dataframe tbody tr th:only-of-type {\n",
       "        vertical-align: middle;\n",
       "    }\n",
       "\n",
       "    .dataframe tbody tr th {\n",
       "        vertical-align: top;\n",
       "    }\n",
       "\n",
       "    .dataframe thead th {\n",
       "        text-align: right;\n",
       "    }\n",
       "</style>\n",
       "<table border=\"1\" class=\"dataframe\">\n",
       "  <thead>\n",
       "    <tr style=\"text-align: right;\">\n",
       "      <th></th>\n",
       "      <th>Value</th>\n",
       "      <th>ID</th>\n",
       "    </tr>\n",
       "    <tr>\n",
       "      <th>Timestamp</th>\n",
       "      <th></th>\n",
       "      <th></th>\n",
       "    </tr>\n",
       "  </thead>\n",
       "  <tbody>\n",
       "    <tr>\n",
       "      <th>2000-01-01</th>\n",
       "      <td>180.0</td>\n",
       "      <td>210117</td>\n",
       "    </tr>\n",
       "    <tr>\n",
       "      <th>2000-02-01</th>\n",
       "      <td>179.0</td>\n",
       "      <td>210117</td>\n",
       "    </tr>\n",
       "    <tr>\n",
       "      <th>2000-03-01</th>\n",
       "      <td>180.0</td>\n",
       "      <td>210117</td>\n",
       "    </tr>\n",
       "    <tr>\n",
       "      <th>2000-04-01</th>\n",
       "      <td>182.0</td>\n",
       "      <td>210117</td>\n",
       "    </tr>\n",
       "    <tr>\n",
       "      <th>2000-05-01</th>\n",
       "      <td>182.0</td>\n",
       "      <td>210117</td>\n",
       "    </tr>\n",
       "    <tr>\n",
       "      <th>...</th>\n",
       "      <td>...</td>\n",
       "      <td>...</td>\n",
       "    </tr>\n",
       "    <tr>\n",
       "      <th>2020-07-01</th>\n",
       "      <td>473.0</td>\n",
       "      <td>613.1</td>\n",
       "    </tr>\n",
       "    <tr>\n",
       "      <th>2020-08-01</th>\n",
       "      <td>473.0</td>\n",
       "      <td>613.1</td>\n",
       "    </tr>\n",
       "    <tr>\n",
       "      <th>2020-09-01</th>\n",
       "      <td>470.0</td>\n",
       "      <td>613.1</td>\n",
       "    </tr>\n",
       "    <tr>\n",
       "      <th>2020-10-01</th>\n",
       "      <td>467.0</td>\n",
       "      <td>613.1</td>\n",
       "    </tr>\n",
       "    <tr>\n",
       "      <th>2020-11-01</th>\n",
       "      <td>468.0</td>\n",
       "      <td>613.1</td>\n",
       "    </tr>\n",
       "  </tbody>\n",
       "</table>\n",
       "<p>6265 rows × 2 columns</p>\n",
       "</div>"
      ],
      "text/plain": [
       "            Value      ID\n",
       "Timestamp                \n",
       "2000-01-01  180.0  210117\n",
       "2000-02-01  179.0  210117\n",
       "2000-03-01  180.0  210117\n",
       "2000-04-01  182.0  210117\n",
       "2000-05-01  182.0  210117\n",
       "...           ...     ...\n",
       "2020-07-01  473.0   613.1\n",
       "2020-08-01  473.0   613.1\n",
       "2020-09-01  470.0   613.1\n",
       "2020-10-01  467.0   613.1\n",
       "2020-11-01  468.0   613.1\n",
       "\n",
       "[6265 rows x 2 columns]"
      ]
     },
     "execution_count": 2,
     "metadata": {},
     "output_type": "execute_result"
    }
   ],
   "source": [
    "#Define the list of gauge IDs you want to get \n",
    "ID_list = ['210117','222538','401027','410543','410748','412106',\n",
    "           '419041','419069','425022','130314B','138012A','138121A',\n",
    "           '232217A','422315B','MALMSBURY','ODSS_21166_WSLAHD.1',\n",
    "           'ROCKLANDS','sp-o10334','sp-o11454','sp-o11534','TAYLORS',\n",
    "           '412010','222539','629.1','613.1']\n",
    "\n",
    "test_files_list = []\n",
    "\n",
    "#Find the files that represent those gauge IDs (thanks to my good naming convention practices, the gauge ID is in the file name)\n",
    "directory = '00_Library'\n",
    "for filename in os.listdir(directory):\n",
    "    for i in ID_list:\n",
    "        if i in filename:\n",
    "            test_files_list.append(os.path.join(directory, filename))\n",
    "\n",
    "data_dict = {}        \n",
    "ID_list2 = []\n",
    "\n",
    "#Make a dictionary of pandas dataframes where the key is the gauge ID and make it monthly instead of daily\n",
    "#The ID has to be read in the same loop as the data to make sure they are the same one\n",
    "for i in tqdm(test_files_list, total=len(test_files_list)):\n",
    "    df = pd.read_csv(i, nrows=1, escapechar='#')\n",
    "    column = df.iloc[:,[1]] #This is the column with the ID in it\n",
    "    ID = list(column)\n",
    "    ID = ID[0]\n",
    "    ID = df.at[0, ID]\n",
    "    ID_list2.append(str(ID))\n",
    "    \n",
    "    data = pd.read_csv(i, error_bad_lines = False, skiprows=9, escapechar='#',\n",
    "                         parse_dates=['Timestamp'], \n",
    "                         index_col=('Timestamp'),\n",
    "                        date_parser=lambda x: pd.to_datetime(x.rsplit('+', 1)[0]))\n",
    "    data = data.drop(columns=['Quality Code', 'Interpolation Type'])\n",
    "    data = data.resample('MS').mean() # resample() is a pandas function and 'MS' stands for monthly summary\n",
    "    data_dict.update({str(ID): data})\n",
    "    \n",
    "data_list = []\n",
    "\n",
    "#loop over the dictionary to add the ID column\n",
    "for i in ID_list:\n",
    "    df = data_dict[i]\n",
    "    df['ID'] = i\n",
    "    data_list.append(df)\n",
    "    \n",
    "#concatenate the dataframes into one and round values to integers\n",
    "df = pd.concat(data_list)\n",
    "df['Value'] = df['Value'].round(0)\n",
    "df"
   ]
  },
  {
   "cell_type": "markdown",
   "metadata": {},
   "source": [
    "Great, now you can save it as a csv file. When it appears in the directory on the side, you can right click and download to your computer."
   ]
  },
  {
   "cell_type": "code",
   "execution_count": null,
   "metadata": {},
   "outputs": [],
   "source": [
    "df.to_csv('test_data.csv')"
   ]
  },
  {
   "cell_type": "code",
   "execution_count": null,
   "metadata": {},
   "outputs": [],
   "source": []
  }
 ],
 "metadata": {
  "kernelspec": {
   "display_name": "Python 3",
   "language": "python",
   "name": "python3"
  },
  "language_info": {
   "codemirror_mode": {
    "name": "ipython",
    "version": 3
   },
   "file_extension": ".py",
   "mimetype": "text/x-python",
   "name": "python",
   "nbconvert_exporter": "python",
   "pygments_lexer": "ipython3",
   "version": "3.6.9"
  }
 },
 "nbformat": 4,
 "nbformat_minor": 4
}
