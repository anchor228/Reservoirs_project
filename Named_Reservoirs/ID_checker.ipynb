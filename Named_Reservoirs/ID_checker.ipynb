{
 "cells": [
  {
   "cell_type": "code",
   "execution_count": 1,
   "metadata": {},
   "outputs": [
    {
     "name": "stderr",
     "output_type": "stream",
     "text": [
      "/env/lib/python3.6/site-packages/geopandas/_compat.py:88: UserWarning: The Shapely GEOS version (3.7.2-CAPI-1.11.0 ) is incompatible with the GEOS version PyGEOS was compiled with (3.9.0-CAPI-1.16.2). Conversions between both will be slow.\n",
      "  shapely_geos_version, geos_capi_version_string\n"
     ]
    }
   ],
   "source": [
    "import pandas as pd\n",
    "import geopandas as gpd\n",
    "import numpy as np"
   ]
  },
  {
   "cell_type": "markdown",
   "metadata": {},
   "source": [
    "## Make a list of the IDs you want to check are in the reservoirs shapefile"
   ]
  },
  {
   "cell_type": "code",
   "execution_count": 2,
   "metadata": {},
   "outputs": [],
   "source": [
    "hydro_list = ['418.1', '155.1', '604.1', '167.1', '298.1', '592.1', '625.1', '573.1', '179.1', '176.1', '222538', '613.1',\n",
    "              '646.1', '139.2', '401570', '286.1', '128.1', '401571', '211.1', '579.1', '236.1', '629.1', '656.1', '370.1',\n",
    "              '565.1', '657.1', '410543', '296.1', '627.1', '594.1', '648.1', '508.1', '742.1', '171.1', '294.1', '580.1',\n",
    "              '658.1', '562.1', '520.1', '222537', '222539', '222540', '131.1', '401569', '553.1', '158.1', '170.1', '410572A',\n",
    "              '401565', '410573', '410545', '410542', '190.1', '295.1', '462.1']"
   ]
  },
  {
   "cell_type": "code",
   "execution_count": 7,
   "metadata": {},
   "outputs": [
    {
     "data": {
      "text/plain": [
       "55"
      ]
     },
     "execution_count": 7,
     "metadata": {},
     "output_type": "execute_result"
    }
   ],
   "source": [
    "len(hydro_list)"
   ]
  },
  {
   "cell_type": "code",
   "execution_count": 6,
   "metadata": {},
   "outputs": [
    {
     "name": "stdout",
     "output_type": "stream",
     "text": [
      "418.1 = ARTHURS LAKE\n",
      "155.1 = LAKE AUGUSTA\n",
      "604.1 = LAKE BARRINGTON\n",
      "167.1 = BRONTE LAGOON\n",
      "298.1 = LAKE BURBURY\n",
      "592.1 = LAKE CATAGUNYA\n",
      "625.1 = LAKE CETHANA\n",
      "573.1 = CLUNY LAGOON\n",
      "179.1 = DEE LAGOON\n",
      "176.1 = LAKE ECHO\n",
      "222538 = LAKE EUCUMBENE\n",
      "613.1 = LAKE GAIRDNER\n",
      "646.1 = LAKE GORDON\n",
      "139.2 = GREAT LAKE\n",
      "401570 = GEEHI RESERVOIR\n",
      "286.1 = LAKE HENTY\n",
      "128.1 = LAKE KING WILLIAM\n",
      "401571 = MURRAY 2 PONDAGE\n",
      "211.1 = LAUGHING JACK LAGOON\n",
      "579.1 = LAKE LIAPOOTAH\n",
      "236.1 = LITTLE PINE LAGOON\n",
      "629.1 = LAKE MACKENZIE\n",
      "656.1 = LAKE MACKINTOSH\n",
      "370.1 = LAKE MARGARET\n",
      "565.1 = MEADOWBANK LAKE\n",
      "657.1 = LAKE MURCHISON\n",
      "410543 = TANTANGARA RESERVOIR\n",
      "296.1 = LAKE NEWTON\n",
      "627.1 = LAKE PALOONA\n",
      "594.1 = LAKE PARANGANA\n",
      "648.1 = LAKE PEDDER\n",
      "508.1 = PENSTOCK LAGOON\n",
      "742.1 = LAKE PIEMAN\n",
      "171.1 = PINE TIER LAGOON\n",
      "294.1 = LAKE PLIMSOLL\n",
      "580.1 = LAKE REPULSE\n",
      "658.1 = LAKE ROSEBERY\n",
      "562.1 = LAKE ROWALLAN\n",
      "520.1 = SHANNON LAGOON\n",
      "222537 = GUTHEGA PONDAGE\n",
      "222539 = ISLAND BEND PONDAGE\n",
      "222540 = LAKE JINDABYNE\n",
      "131.1 = LAKE SAINT CLAIR\n",
      "401569 = KHANCOBAN PONDAGE\n",
      "553.1 = TARRALEAH NO2 POND\n",
      "158.1 = LAKE TREVALLYN\n",
      "170.1 = TUNGATINAH LAGOON\n",
      "410572A = TALBINGO RESERVOIR\n",
      "401565 = TOOMA RESERVOIR\n",
      "410573 = JOUNAMA PONDAGE\n",
      "410545 = TUMUT TWO PONDAGE\n",
      "410542 = TUMUT POND RESERVOIR\n",
      "190.1 = WAYATINAH LAGOON\n",
      "295.1 = WHITE SPUR LAKE\n",
      "462.1 = WOODS LAKE\n"
     ]
    }
   ],
   "source": [
    "gdf = gpd.read_file('Named_Reservoirs8.shp') #read the shapefile\n",
    "gdf_list = gdf.gauge_ID.to_list()   #Make list of gauge IDs that are in the reservoirs shapefile\n",
    "\n",
    "#Check in a loop\n",
    "for i in hydro_list:\n",
    "    check = i in gdf_list   #check if each ID in the hydro_list is also in the gdf_list (reservoirs shapefile). Makes a True or False value.\n",
    "    \n",
    "    #If the check returns True, then print out it's name\n",
    "    if check is True:\n",
    "        row = gdf.loc[gdf['gauge_ID'] == i]\n",
    "        row = row.reset_index()\n",
    "        name = row.at[0,'NAME']\n",
    "        print(i, '=', name)\n",
    "        \n",
    "        #If the check is False, print 'we didn't find ID'\n",
    "    else:\n",
    "        print('.....................................we didnt find', i)"
   ]
  },
  {
   "cell_type": "code",
   "execution_count": null,
   "metadata": {},
   "outputs": [],
   "source": []
  }
 ],
 "metadata": {
  "kernelspec": {
   "display_name": "Python 3",
   "language": "python",
   "name": "python3"
  },
  "language_info": {
   "codemirror_mode": {
    "name": "ipython",
    "version": 3
   },
   "file_extension": ".py",
   "mimetype": "text/x-python",
   "name": "python",
   "nbconvert_exporter": "python",
   "pygments_lexer": "ipython3",
   "version": "3.6.9"
  }
 },
 "nbformat": 4,
 "nbformat_minor": 4
}
